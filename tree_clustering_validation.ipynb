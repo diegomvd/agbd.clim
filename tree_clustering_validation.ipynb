{
 "cells": [
  {
   "cell_type": "markdown",
   "metadata": {},
   "source": [
    "The outcome of the tree clustering procedure is analyzed in this notebook. Specifically, we calculate intra-cluster coefficients of variation for bioclimatic conditions, tree density and estimated Aboveground Biomass Density (AGBD). We also calculate intra-cluster distances and homogeneity scores with respect to the ecoregion class. "
   ]
  },
  {
   "cell_type": "code",
   "execution_count": 2,
   "metadata": {},
   "outputs": [],
   "source": [
    "import pandas as pd\n",
    "import geopandas as gpd"
   ]
  },
  {
   "cell_type": "code",
   "execution_count": 12,
   "metadata": {},
   "outputs": [
    {
     "name": "stderr",
     "output_type": "stream",
     "text": [
      "/tmp/ipykernel_1714252/193441182.py:2: DtypeWarning: Columns (1,2,3,4) have mixed types. Specify dtype option on import or set low_memory=False.\n",
      "  trees_data = pd.read_csv(\"data/training/processing/trees_clusters_bioclimatic_predictors.csv\")\n"
     ]
    }
   ],
   "source": [
    "# This dataframe contains tree-level data and is used to estimate bioclimatic variation within each cluster.\n",
    "trees_data = pd.read_csv(\"data/training/processing/trees_clusters_bioclimatic_predictors.csv\")\n",
    "\n",
    "# This dataframe contains cluster-level data and is used to estimate intr-cluster tree density variation and robustness of AGBD estimations for each cluster.\n",
    "clusters_data = pd.read_csv(\"data/training/processing/clusters_agbd_mgha_bioclimatic_predictors.csv\")"
   ]
  },
  {
   "cell_type": "markdown",
   "metadata": {},
   "source": [
    "Calculate coefficients of variation for tree density and climatic variables within each cluster and estimate average intra-cluster  variablity."
   ]
  },
  {
   "cell_type": "code",
   "execution_count": 13,
   "metadata": {},
   "outputs": [
    {
     "name": "stdout",
     "output_type": "stream",
     "text": [
      "Estimate of average intra-cluster climatic variability first aggregating by cluster then by variable:\n",
      "0.568883339567567 % \n",
      "\n",
      "Estimate of average intra-cluster climatic variability first aggregating by variable then by cluster:\n",
      "0.568812213124226 % \n",
      "\n",
      "Average intra-cluster tree density variability:\n",
      "10.382047218243741 %\n"
     ]
    }
   ],
   "source": [
    "# First calculate the intra-cluster CV for each climatic variable and cluster.\n",
    "subset_columns = [\"bio{}\".format(i) for i in range(1,20)]\n",
    "subset_columns.append(\"gsl\")\n",
    "subset_columns.append(\"cluster\")\n",
    "\n",
    "df = trees_data[subset_columns].groupby(\"cluster\").agg([\"mean\",\"std\"]).reindex()\n",
    "subset_columns.remove(\"cluster\")\n",
    "\n",
    "climatic_variation = pd.DataFrame()\n",
    "for col in subset_columns:\n",
    "    climatic_variation[\"{}_cv\".format(col)]=df[col,\"std\"]/df[col,\"mean\"]*100\n",
    "\n",
    "# Average CV of each climatic variable across clusters.\n",
    "variable_level_average_climatic_variation = climatic_variation.mean(axis=0)\n",
    "# Average CV across climatic variables for every cluster. \n",
    "cluster_level_average_climatic_variation = climatic_variation.mean(axis=1)\n",
    "\n",
    "average_climatic_variation1 = variable_level_average_climatic_variation.mean()\n",
    "average_climatic_variation2 = cluster_level_average_climatic_variation.mean()\n",
    "\n",
    "print(\"Estimate of average intra-cluster climatic variability first aggregating by cluster then by variable:\")\n",
    "print(\"{} % \\n\".format(average_climatic_variation1))\n",
    "print(\"Estimate of average intra-cluster climatic variability first aggregating by variable then by cluster:\")\n",
    "print(\"{} % \\n\".format(average_climatic_variation2))\n",
    "\n",
    "# Calulate tree density CV\n",
    "# TODO: correct column naming\n",
    "clusters_data[\"td_cv\"] = clusters_data[\"std_td\"]/clusters_data[\"mean_td\"]*100\n",
    "# Average across clusters\n",
    "average_tree_density_cv = clusters_data[\"td_cv\"].mean()\n",
    "print(\"Average intra-cluster tree density variability:\")\n",
    "print(\"{} %\".format(average_tree_density_cv))\n"
   ]
  },
  {
   "cell_type": "code",
   "execution_count": 14,
   "metadata": {},
   "outputs": [
    {
     "data": {
      "image/png": "[encoded data removed]",
      "text/plain": [
       "<Figure size 250x250 with 1 Axes>"
      ]
     },
     "metadata": {},
     "output_type": "display_data"
    },
    {
     "data": {
      "image/png": "[encoded data removed]",
      "text/plain": [
       "<Figure size 250x250 with 1 Axes>"
      ]
     },
     "metadata": {},
     "output_type": "display_data"
    }
   ],
   "source": [
    "import seaborn as sns \n",
    "from matplotlib import pyplot as plt\n",
    "\n",
    "sns.set_context(\"paper\", rc={\"font.size\":8,\"axes.titlesize\":8,\"axes.labelsize\":8})\n",
    "sns.set_style(\"darkgrid\")\n",
    "savedir = \"./figures/\"\n",
    "\n",
    "g = sns.displot(cluster_level_average_climatic_variation,kind=\"hist\",log_scale=True,height=2.5)\n",
    "g.set(xlabel=\"Average bioclimatic CV (%)\")\n",
    "ax = g.axes\n",
    "ax[0][0].axvline(x = average_climatic_variation2,color=\"#733380\",alpha=0.9,linestyle='--')\n",
    "ax[0][0].text(0.1, 80, \"Cluster-level \\n average\", fontsize=8,color=\"#733380\")\n",
    "\n",
    "plt.savefig(\"{}clustering_bioclimatic_CV_300dpi.png\".format(savedir),dpi=300,bbox_inches = \"tight\")\n",
    "plt.savefig(\"{}clustering_bioclimatic_CV.svg\".format(savedir))\n",
    "plt.show()\n",
    "\n",
    "g = sns.displot(clusters_data[\"td_cv\"],kind=\"hist\",log_scale=True,height=2.5)\n",
    "g.set(xlabel=\"Average tree density CV (%)\")\n",
    "ax = g.axes\n",
    "ax[0][0].axvline(x = average_tree_density_cv,color=\"#733380\",alpha=0.9,linestyle='--')\n",
    "ax[0][0].text(0.002, 700, \"Cluster-level \\n average\", fontsize=8,color=\"#733380\")\n",
    "\n",
    "plt.savefig(\"{}clustering_treedensity_CV_300dpi.png\".format(savedir),dpi=300,bbox_inches = \"tight\")\n",
    "plt.savefig(\"{}clustering_treedensity_CV.svg\".format(savedir))\n",
    "plt.show()\n",
    "\n"
   ]
  },
  {
   "cell_type": "markdown",
   "metadata": {},
   "source": [
    "Calculate intra-cluster distance."
   ]
  },
  {
   "cell_type": "code",
   "execution_count": 6,
   "metadata": {},
   "outputs": [
    {
     "ename": "KeyboardInterrupt",
     "evalue": "",
     "output_type": "error",
     "traceback": [
      "\u001b[0;31m---------------------------------------------------------------------------\u001b[0m",
      "\u001b[0;31mKeyboardInterrupt\u001b[0m                         Traceback (most recent call last)",
      "Cell \u001b[0;32mIn[6], line 17\u001b[0m\n\u001b[1;32m     15\u001b[0m list_iter \u001b[38;5;241m=\u001b[39m itertools\u001b[38;5;241m.\u001b[39mcombinations(df[\u001b[38;5;124m\"\u001b[39m\u001b[38;5;124mlat,lon\u001b[39m\u001b[38;5;124m\"\u001b[39m], \u001b[38;5;241m2\u001b[39m)\n\u001b[1;32m     16\u001b[0m \u001b[38;5;28;01mfor\u001b[39;00m coord1,coord2 \u001b[38;5;129;01min\u001b[39;00m itertools\u001b[38;5;241m.\u001b[39mcombinations(df[\u001b[38;5;124m\"\u001b[39m\u001b[38;5;124mlat,lon\u001b[39m\u001b[38;5;124m\"\u001b[39m], \u001b[38;5;241m2\u001b[39m):\n\u001b[0;32m---> 17\u001b[0m     dist\u001b[38;5;241m+\u001b[39m\u001b[38;5;241m=\u001b[39m\u001b[43mhaversine_distance_km_from_lat_lon\u001b[49m\u001b[43m(\u001b[49m\u001b[43mcoord1\u001b[49m\u001b[43m,\u001b[49m\u001b[43mcoord2\u001b[49m\u001b[43m)\u001b[49m\n\u001b[1;32m     18\u001b[0m     n\u001b[38;5;241m+\u001b[39m\u001b[38;5;241m=\u001b[39m\u001b[38;5;241m1\u001b[39m\n\u001b[1;32m     19\u001b[0m avg_dist \u001b[38;5;241m=\u001b[39m dist\u001b[38;5;241m/\u001b[39mn\n",
      "File \u001b[0;32m~/git/agbd.clim/geoutils.py:515\u001b[0m, in \u001b[0;36mhaversine_distance_km_from_lat_lon\u001b[0;34m(coord1, coord2)\u001b[0m\n\u001b[1;32m    512\u001b[0m dlon \u001b[38;5;241m=\u001b[39m lon2 \u001b[38;5;241m-\u001b[39m lon1\n\u001b[1;32m    513\u001b[0m dlat \u001b[38;5;241m=\u001b[39m lat2 \u001b[38;5;241m-\u001b[39m lat1\n\u001b[0;32m--> 515\u001b[0m dist \u001b[38;5;241m=\u001b[39m \u001b[38;5;241m2\u001b[39m \u001b[38;5;241m*\u001b[39m np\u001b[38;5;241m.\u001b[39marcsin(  np\u001b[38;5;241m.\u001b[39msqrt( (np\u001b[38;5;241m.\u001b[39msin(dlat\u001b[38;5;241m/\u001b[39m\u001b[38;5;241m2\u001b[39m))\u001b[38;5;241m*\u001b[39m\u001b[38;5;241m*\u001b[39m\u001b[38;5;241m2\u001b[39m \u001b[38;5;241m+\u001b[39m \u001b[43mnp\u001b[49m\u001b[38;5;241;43m.\u001b[39;49m\u001b[43mcos\u001b[49m\u001b[43m(\u001b[49m\u001b[43mlat1\u001b[49m\u001b[43m)\u001b[49m \u001b[38;5;241m*\u001b[39m np\u001b[38;5;241m.\u001b[39mcos(lat2) \u001b[38;5;241m*\u001b[39m (np\u001b[38;5;241m.\u001b[39msin(dlon\u001b[38;5;241m/\u001b[39m\u001b[38;5;241m2.0\u001b[39m))\u001b[38;5;241m*\u001b[39m\u001b[38;5;241m*\u001b[39m\u001b[38;5;241m2\u001b[39m )   )\n\u001b[1;32m    517\u001b[0m dist_km \u001b[38;5;241m=\u001b[39m earth_radius \u001b[38;5;241m*\u001b[39m dist\n\u001b[1;32m    518\u001b[0m \u001b[38;5;28;01mreturn\u001b[39;00m dist_km\n",
      "\u001b[0;31mKeyboardInterrupt\u001b[0m: "
     ]
    }
   ],
   "source": [
    "import itertools \n",
    "from geoutils import haversine_distance_km_from_lat_lon\n",
    "\n",
    "trees_data[\"lat,lon\"] = list(zip(trees_data[\"latitude\"], trees_data[\"longitude\"]))\n",
    "\n",
    "entries = []\n",
    "nclusters = len(trees_data[\"cluster\"].unique())\n",
    "for i, clt in enumerate(trees_data[\"cluster\"].unique()):\n",
    "\n",
    "    if clt == -1:\n",
    "        continue\n",
    "    df = trees_data[ trees_data[\"cluster\"] == clt].drop(columns=\"geometry\")\n",
    "    dist = 0\n",
    "    n=0\n",
    "    list_iter = itertools.combinations(df[\"lat,lon\"], 2)\n",
    "    for coord1,coord2 in itertools.combinations(df[\"lat,lon\"], 2):\n",
    "        dist+=haversine_distance_km_from_lat_lon(coord1,coord2)\n",
    "        n+=1\n",
    "    avg_dist = dist/n\n",
    "\n",
    "    entry = {\"cluster\":clt,\"avg_dist\":avg_dist}\n",
    "    entries.append(entry)\n",
    "    \n",
    "intracluster_distances = pd.DataFrame.from_dict(entries)\n",
    "avg_distance = intracluster_distances[\"avg_dist\"].mean()\n",
    "print(\"Cluster-level average of average intra-cluster distances:\")\n",
    "print(\"{} km\".format(avg_distance))\n",
    "    "
   ]
  },
  {
   "cell_type": "markdown",
   "metadata": {},
   "source": [
    "Plot intra-cluster distance distribution."
   ]
  },
  {
   "cell_type": "code",
   "execution_count": 11,
   "metadata": {},
   "outputs": [
    {
     "data": {
      "image/png": "[encoded data removed]",
      "text/plain": [
       "<Figure size 250x250 with 1 Axes>"
      ]
     },
     "metadata": {},
     "output_type": "display_data"
    }
   ],
   "source": [
    "\n",
    "g = sns.displot(data = intracluster_distances, x=\"avg_dist\", kind=\"hist\",log_scale=True,height=2.5)\n",
    "g.set(xlabel=\"Average intra-cluster distance (km)\")\n",
    "ax = g.axes\n",
    "ax[0][0].axvline(x = avg_distance,color=\"#733380\",alpha=0.9,linestyle='--')\n",
    "ax[0][0].text(0.001, 120, \"Cluster-level \\naverage\", fontsize=8,color=\"#733380\")\n",
    "\n",
    "plt.savefig(\"{}clustering_distance_CV_300dpi.png\".format(savedir),dpi=300,bbox_inches = \"tight\")\n",
    "plt.savefig(\"{}clustering_distance_CV.svg\".format(savedir))\n",
    "plt.show()"
   ]
  },
  {
   "cell_type": "markdown",
   "metadata": {},
   "source": [
    "Calculate ecoregion class homogeneity."
   ]
  },
  {
   "cell_type": "code",
   "execution_count": 64,
   "metadata": {},
   "outputs": [
    {
     "name": "stdout",
     "output_type": "stream",
     "text": [
      "Ecoregion homogeneity score: 0.9888188317938295\n"
     ]
    }
   ],
   "source": [
    "from geoutils import add_feature\n",
    "from data import fetch_ecoregion_data\n",
    "\n",
    "ecoregions_file = fetch_ecoregion_data()\n",
    "\n",
    "# Build the GeoDataFrame.\n",
    "gdf = gpd.GeoDataFrame(\n",
    "        trees_data,\n",
    "        geometry= gpd.points_from_xy(x=trees_data.longitude, y=trees_data.latitude)\n",
    "    )\n",
    "gdf.crs = \"EPSG:4326\"\n",
    "\n",
    "gdf = add_feature(gdf,\"ECO_NAME\",ecoregions_file,\"Ecoregion\") \n",
    "\n",
    "from sklearn.metrics.cluster import homogeneity_score\n",
    "\n",
    "label_true = gdf[\"Ecoregion\"]\n",
    "label_pred = gdf[\"cluster\"]\n",
    "\n",
    "score = homogeneity_score(label_true,label_pred)\n",
    "\n",
    "print(\"Ecoregion homogeneity score:\", score)"
   ]
  },
  {
   "cell_type": "markdown",
   "metadata": {},
   "source": [
    "Calculate the average variation during the estimatino of AGBD in each cluster. This is the coefficient of variation of the estimated AGBD across replicas, where each replica corresponds to the sum of samples from the estimated AGB distribution within each cluster.  "
   ]
  },
  {
   "cell_type": "code",
   "execution_count": 66,
   "metadata": {},
   "outputs": [
    {
     "name": "stdout",
     "output_type": "stream",
     "text": [
      "Average coefficient of variation of AGBD estimations: 1.1922599616275904 %\n"
     ]
    }
   ],
   "source": [
    "clusters_data[\"agbd_cv\"] = clusters_data[\"std_agbd\"]/clusters_data[\"mean_agbd\"]*100\n",
    "average_agbd_cv = clusters_data[\"agbd_cv\"].mean()\n",
    "\n",
    "print(\"Average coefficient of variation of AGBD estimations:\", average_agbd_cv, \"%\")"
   ]
  }
 ],
 "metadata": {
  "kernelspec": {
   "display_name": "tree.cluster",
   "language": "python",
   "name": "python3"
  },
  "language_info": {
   "codemirror_mode": {
    "name": "ipython",
    "version": 3
   },
   "file_extension": ".py",
   "mimetype": "text/x-python",
   "name": "python",
   "nbconvert_exporter": "python",
   "pygments_lexer": "ipython3",
   "version": "3.12.2"
  }
 },
 "nbformat": 4,
 "nbformat_minor": 2
}
